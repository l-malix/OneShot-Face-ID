{
 "cells": [
  {
   "cell_type": "markdown",
   "metadata": {},
   "source": [
    "### IMPORTATIONS"
   ]
  },
  {
   "cell_type": "code",
   "execution_count": 112,
   "metadata": {},
   "outputs": [],
   "source": [
    "import os\n",
    "import tensorflow as tf\n",
    "from tensorflow import keras\n",
    "import cv2\n",
    "import uuid\n",
    "import matplotlib.pyplot as plt"
   ]
  },
  {
   "cell_type": "markdown",
   "metadata": {},
   "source": [
    "### DATASET CONSTRUCTION AND PREPROCESSING"
   ]
  },
  {
   "cell_type": "markdown",
   "metadata": {},
   "source": [
    "##### Path configuration"
   ]
  },
  {
   "cell_type": "code",
   "execution_count": 113,
   "metadata": {},
   "outputs": [],
   "source": [
    "# Define paths\n",
    "\n",
    "ANCHORS_PATH = os.path.join(\"data\", \"anchors\")\n",
    "NEGATIVES_PATH = os.path.join(\"data\", \"negatives\")\n",
    "POSITIVES_PATH = os.path.join(\"data\", \"positives\")"
   ]
  },
  {
   "cell_type": "code",
   "execution_count": 5,
   "metadata": {},
   "outputs": [],
   "source": [
    "## Make directories if they're is not exist\n",
    "\n",
    "if not os.path.exists(ANCHORS_PATH):\n",
    "    os.makedirs(ANCHORS_PATH)\n",
    "\n",
    "if not os.path.exists(NEGATIVES_PATH):\n",
    "    os.makedirs(NEGATIVES_PATH)\n",
    "\n",
    "if not os.path.exists(POSITIVES_PATH):\n",
    "    os.makedirs(POSITIVES_PATH)"
   ]
  },
  {
   "cell_type": "markdown",
   "metadata": {},
   "source": [
    "##### Extract the data from lfw"
   ]
  },
  {
   "cell_type": "code",
   "execution_count": null,
   "metadata": {},
   "outputs": [],
   "source": [
    "! tar -xvzf lfw.tgz"
   ]
  },
  {
   "cell_type": "markdown",
   "metadata": {},
   "source": [
    "##### Move files from lfw to data/negatives "
   ]
  },
  {
   "cell_type": "code",
   "execution_count": 10,
   "metadata": {},
   "outputs": [],
   "source": [
    "for dir in os.listdir(\"lfw\"):\n",
    "    for image_dir in os.listdir(os.path.join(\"lfw\", dir)):\n",
    "        old_path = os.path.join(os.path.join(\"lfw\", dir), image_dir)\n",
    "        os.replace(old_path, os.path.join(NEGATIVES_PATH, image_dir))"
   ]
  },
  {
   "cell_type": "markdown",
   "metadata": {},
   "source": [
    "##### Collect Anchors & Positives"
   ]
  },
  {
   "cell_type": "code",
   "execution_count": 10,
   "metadata": {},
   "outputs": [],
   "source": [
    "cam = cv2.VideoCapture(0)\n",
    "while cam.isOpened():\n",
    "    _, frame = cam.read()\n",
    "    frame = frame[120:120+250, 200:200+250, :]\n",
    "    cv2.imshow(\"image collection\", frame)\n",
    "\n",
    "    if cv2.waitKey(1) & 0XFF == ord(\"p\"):\n",
    "        image_name = \"{}.jpg\".format(uuid.uuid1())\n",
    "        cv2.imwrite(os.path.join(POSITIVES_PATH, image_name), frame)\n",
    "\n",
    "    elif cv2.waitKey(1) & 0XFF == ord(\"a\"):\n",
    "        image_name = \"{}.jpg\".format(uuid.uuid1())\n",
    "        cv2.imwrite(os.path.join(ANCHORS_PATH, image_name), frame)\n",
    "\n",
    "    elif cv2.waitKey(1) & 0XFF == ord(\"q\"):\n",
    "        break\n",
    "\n",
    "cam.release()\n",
    "cv2.destroyAllWindows()"
   ]
  },
  {
   "cell_type": "markdown",
   "metadata": {},
   "source": [
    "##### Make a dataset"
   ]
  },
  {
   "cell_type": "code",
   "execution_count": 114,
   "metadata": {},
   "outputs": [],
   "source": [
    "anchors = tf.data.Dataset.list_files(os.path.join(ANCHORS_PATH,\"*.jpg\")).take(400)\n",
    "positives = tf.data.Dataset.list_files(os.path.join(POSITIVES_PATH,\"*.jpg\")).take(400)\n",
    "negatives = tf.data.Dataset.list_files(os.path.join(NEGATIVES_PATH,\"*.jpg\")).take(400)"
   ]
  },
  {
   "cell_type": "code",
   "execution_count": 115,
   "metadata": {},
   "outputs": [],
   "source": [
    "def preprocess_image(image_path):\n",
    "    img = tf.io.read_file(image_path)\n",
    "    img = tf.io.decode_jpeg(img)\n",
    "    img = tf.image.resize(img, (100, 100))\n",
    "    img = img / 255.0\n",
    "    return img"
   ]
  },
  {
   "cell_type": "code",
   "execution_count": 116,
   "metadata": {},
   "outputs": [],
   "source": [
    "## Building a tensorflow dataset\n",
    "\n",
    "positive = tf.data.Dataset.zip((anchors, positives, tf.data.Dataset.from_tensor_slices(tf.ones(len(anchors)))))\n",
    "negative = tf.data.Dataset.zip((anchors, negatives, tf.data.Dataset.from_tensor_slices(tf.zeros(len(anchors)))))\n",
    "dataset = positive.concatenate(negative)"
   ]
  },
  {
   "cell_type": "code",
   "execution_count": 117,
   "metadata": {},
   "outputs": [],
   "source": [
    "def preprocess_data(input, compared, label):\n",
    "    input_image = preprocess_image(input)\n",
    "    compared_image = preprocess_image(compared)\n",
    "    return input_image, compared_image, label"
   ]
  },
  {
   "cell_type": "code",
   "execution_count": 118,
   "metadata": {},
   "outputs": [],
   "source": [
    "# Prepare the dataloader\n",
    "\n",
    "dataset = dataset.map(preprocess_data)\n",
    "dataset = dataset.cache()\n",
    "dataset = dataset.shuffle(buffer_size=1024)"
   ]
  },
  {
   "cell_type": "code",
   "execution_count": 119,
   "metadata": {},
   "outputs": [],
   "source": [
    "# Training data preparation (70% of the data)\n",
    "train_dataset = dataset.take(round(len(dataset)*0.7))\n",
    "train_dataset = train_dataset.batch(16)\n",
    "train_dataset = train_dataset.prefetch(8)"
   ]
  },
  {
   "cell_type": "code",
   "execution_count": 136,
   "metadata": {},
   "outputs": [],
   "source": [
    "# Testing data preparation (30% of the data)\n",
    "test_dataset = dataset.skip(round(len(dataset)*0.7))\n",
    "test_dataset = test_dataset.batch(16)\n",
    "test_dataset = test_dataset.prefetch(8)"
   ]
  },
  {
   "cell_type": "markdown",
   "metadata": {},
   "source": [
    "### MODEL ARCHITECTURE"
   ]
  },
  {
   "cell_type": "markdown",
   "metadata": {},
   "source": [
    "##### The encoder model"
   ]
  },
  {
   "cell_type": "code",
   "execution_count": 181,
   "metadata": {},
   "outputs": [],
   "source": [
    "def encoder():\n",
    "    input = keras.layers.Input(shape=(100,100,3))\n",
    "\n",
    "    conv1 = keras.layers.Conv2D(64, (10,10), activation=\"relu\")(input)\n",
    "    pool1 = keras.layers.MaxPooling2D(2)(conv1)\n",
    "\n",
    "    conv2 = keras.layers.Conv2D(128, (7,7), activation=\"relu\")(pool1)\n",
    "    pool2 = keras.layers.MaxPooling2D(2)(conv2)\n",
    "\n",
    "    conv3 = keras.layers.Conv2D(128, (4,4), activation=\"relu\")(pool2)\n",
    "    pool3 = keras.layers.MaxPooling2D(2)(conv3)\n",
    "\n",
    "    conv4 = keras.layers.Conv2D(256, (4,4), activation=\"relu\")(pool3)\n",
    "    flatten = keras.layers.Flatten()(conv4)\n",
    "\n",
    "    dense = keras.layers.Dense(4096, activation=\"sigmoid\")(flatten)\n",
    "\n",
    "    return keras.models.Model(inputs=[input], outputs=[dense], name=\"Encoder\")"
   ]
  },
  {
   "cell_type": "code",
   "execution_count": 183,
   "metadata": {},
   "outputs": [
    {
     "name": "stdout",
     "output_type": "stream",
     "text": [
      "Model: \"Encoder\"\n",
      "_________________________________________________________________\n",
      " Layer (type)                Output Shape              Param #   \n",
      "=================================================================\n",
      " input_8 (InputLayer)        [(None, 100, 100, 3)]     0         \n",
      "                                                                 \n",
      " conv2d_21 (Conv2D)          (None, 91, 91, 64)        19264     \n",
      "                                                                 \n",
      " max_pooling2d_17 (MaxPoolin  (None, 45, 45, 64)       0         \n",
      " g2D)                                                            \n",
      "                                                                 \n",
      " conv2d_22 (Conv2D)          (None, 39, 39, 128)       401536    \n",
      "                                                                 \n",
      " max_pooling2d_18 (MaxPoolin  (None, 19, 19, 128)      0         \n",
      " g2D)                                                            \n",
      "                                                                 \n",
      " conv2d_23 (Conv2D)          (None, 16, 16, 128)       262272    \n",
      "                                                                 \n",
      " max_pooling2d_19 (MaxPoolin  (None, 8, 8, 128)        0         \n",
      " g2D)                                                            \n",
      "                                                                 \n",
      " conv2d_24 (Conv2D)          (None, 5, 5, 256)         524544    \n",
      "                                                                 \n",
      " flatten_4 (Flatten)         (None, 6400)              0         \n",
      "                                                                 \n",
      " dense_5 (Dense)             (None, 4096)              26218496  \n",
      "                                                                 \n",
      "=================================================================\n",
      "Total params: 27,426,112\n",
      "Trainable params: 27,426,112\n",
      "Non-trainable params: 0\n",
      "_________________________________________________________________\n"
     ]
    }
   ],
   "source": [
    "encoder_model = encoder()\n",
    "encoder_model.summary()"
   ]
  },
  {
   "cell_type": "markdown",
   "metadata": {},
   "source": [
    "##### Make l_1 distance layer class"
   ]
  },
  {
   "cell_type": "code",
   "execution_count": 321,
   "metadata": {},
   "outputs": [],
   "source": [
    "class L1Dist(keras.layers.Layer):\n",
    "    def __init__(self, **kwargs) -> None:\n",
    "        super().__init__()\n",
    "\n",
    "    def call(self, input_encoder, compared_encoder):\n",
    "        return tf.math.abs(input_encoder - compared_encoder)"
   ]
  },
  {
   "cell_type": "markdown",
   "metadata": {},
   "source": [
    "##### Siamese Model"
   ]
  },
  {
   "cell_type": "code",
   "execution_count": 210,
   "metadata": {},
   "outputs": [],
   "source": [
    "def siamese():\n",
    "\n",
    "    input_image = keras.layers.Input(shape=(100,100,3), name=\"input_image\")\n",
    "\n",
    "    compare_image = keras.layers.Input(shape=(100,100,3), name=\"compare_image\")\n",
    "\n",
    "    siamese_layer = L1Dist()\n",
    "    siamese_layer._name = \"distance\"\n",
    "    distance = siamese_layer(encoder_model(input_image), encoder_model(compare_image))\n",
    "\n",
    "    output = keras.layers.Dense(1, activation=\"sigmoid\")(distance)\n",
    "\n",
    "    return keras.models.Model(inputs=[input_image, compare_image], outputs=[output], name=\"siamese\")"
   ]
  },
  {
   "cell_type": "code",
   "execution_count": 211,
   "metadata": {},
   "outputs": [
    {
     "name": "stdout",
     "output_type": "stream",
     "text": [
      "Model: \"siamese\"\n",
      "__________________________________________________________________________________________________\n",
      " Layer (type)                   Output Shape         Param #     Connected to                     \n",
      "==================================================================================================\n",
      " input_image (InputLayer)       [(None, 100, 100, 3  0           []                               \n",
      "                                )]                                                                \n",
      "                                                                                                  \n",
      " compare_image (InputLayer)     [(None, 100, 100, 3  0           []                               \n",
      "                                )]                                                                \n",
      "                                                                                                  \n",
      " Encoder (Functional)           (None, 4096)         27426112    ['input_image[0][0]',            \n",
      "                                                                  'compare_image[0][0]']          \n",
      "                                                                                                  \n",
      " distance (L1Dist)              (None, 4096)         0           ['Encoder[0][0]',                \n",
      "                                                                  'Encoder[1][0]']                \n",
      "                                                                                                  \n",
      " dense_6 (Dense)                (None, 1)            4097        ['distance[0][0]']               \n",
      "                                                                                                  \n",
      "==================================================================================================\n",
      "Total params: 27,430,209\n",
      "Trainable params: 27,430,209\n",
      "Non-trainable params: 0\n",
      "__________________________________________________________________________________________________\n"
     ]
    }
   ],
   "source": [
    "siamese_model = siamese()\n",
    "siamese_model.summary()"
   ]
  },
  {
   "cell_type": "markdown",
   "metadata": {},
   "source": [
    "### TRAINING"
   ]
  },
  {
   "cell_type": "markdown",
   "metadata": {},
   "source": [
    "##### Loss and optimizer"
   ]
  },
  {
   "cell_type": "code",
   "execution_count": 217,
   "metadata": {},
   "outputs": [],
   "source": [
    "bce_loss = tf.losses.BinaryCrossentropy()\n",
    "optim = tf.optimizers.Adam(learning_rate=0.0001)"
   ]
  },
  {
   "cell_type": "markdown",
   "metadata": {},
   "source": [
    "##### Establish a checkpoint rule"
   ]
  },
  {
   "cell_type": "code",
   "execution_count": 218,
   "metadata": {},
   "outputs": [],
   "source": [
    "checkpoint_dir = './training_checkpoints'\n",
    "checkpoint_prefix = os.path.join(checkpoint_dir, 'ckpt')\n",
    "checkpoint = tf.train.Checkpoint(opt=optim, siamese_model=siamese_model)"
   ]
  },
  {
   "cell_type": "markdown",
   "metadata": {},
   "source": [
    "##### Training Step"
   ]
  },
  {
   "cell_type": "code",
   "execution_count": 257,
   "metadata": {},
   "outputs": [],
   "source": [
    "@tf.function\n",
    "def train_step(batch):\n",
    "    \n",
    "    # Record all of our operations \n",
    "    with tf.GradientTape() as tape:     \n",
    "        # Get anchor and positive/negative image\n",
    "        X = batch[:2]\n",
    "        # Get label\n",
    "        y = batch[2]\n",
    "        \n",
    "        # Forward pass\n",
    "        yhat = siamese_model(X, training=True)\n",
    "        # Calculate loss\n",
    "        loss = bce_loss(y, yhat)\n",
    "    print(loss)\n",
    "        \n",
    "    # Calculate gradients\n",
    "    grad = tape.gradient(loss, siamese_model.trainable_variables)\n",
    "    \n",
    "    # Calculate updated weights and apply to siamese model\n",
    "    optim.apply_gradients(zip(grad, siamese_model.trainable_variables))\n",
    "    \n",
    "    # Return loss\n",
    "    return loss"
   ]
  },
  {
   "cell_type": "markdown",
   "metadata": {},
   "source": [
    "##### Training Loop"
   ]
  },
  {
   "cell_type": "code",
   "execution_count": 262,
   "metadata": {},
   "outputs": [],
   "source": [
    "losses = []"
   ]
  },
  {
   "cell_type": "code",
   "execution_count": 266,
   "metadata": {},
   "outputs": [],
   "source": [
    "def train(data, EPOCHS):\n",
    "\n",
    "    # Loop through epochs\n",
    "    for epoch in range(1, EPOCHS+1):\n",
    "        total_loss = 0\n",
    "        \n",
    "        progbar = tf.keras.utils.Progbar(len(data))\n",
    "        \n",
    "        # Loop through each batch\n",
    "        for idx, batch in enumerate(data):\n",
    "            # Run train step here\n",
    "            loss = train_step(batch)\n",
    "            total_loss += loss.numpy()\n",
    "            progbar.update(idx+1)\n",
    "        \n",
    "        print('\\n Epoch {}/{} Loss : {}'.format(epoch, EPOCHS, total_loss / len(data)))\n",
    "        losses.append(total_loss/len(data))\n",
    "        # Save checkpoints\n",
    "        if epoch % 10 == 0: \n",
    "            checkpoint.save(file_prefix=checkpoint_prefix)"
   ]
  },
  {
   "cell_type": "code",
   "execution_count": 267,
   "metadata": {},
   "outputs": [
    {
     "name": "stdout",
     "output_type": "stream",
     "text": [
      "35/35 [==============================] - 114s 3s/step\n",
      "\n",
      " Epoch 1/50 Loss : 0.03783444711672408\n",
      "35/35 [==============================] - 102s 3s/step\n",
      "\n",
      " Epoch 2/50 Loss : 0.017098063127403813\n",
      "35/35 [==============================] - 104s 3s/step\n",
      "\n",
      " Epoch 3/50 Loss : 0.01125013724834259\n",
      "35/35 [==============================] - 99s 3s/step\n",
      "\n",
      " Epoch 4/50 Loss : 0.004813928767440042\n",
      "35/35 [==============================] - 106s 3s/step\n",
      "\n",
      " Epoch 5/50 Loss : 0.0046395606328068035\n",
      "35/35 [==============================] - 114s 3s/step\n",
      "\n",
      " Epoch 6/50 Loss : 0.05288344306339111\n",
      "35/35 [==============================] - 106s 3s/step\n",
      "\n",
      " Epoch 7/50 Loss : 0.03012679327013237\n",
      "35/35 [==============================] - 102s 3s/step\n",
      "\n",
      " Epoch 8/50 Loss : 0.020815464834283506\n",
      "35/35 [==============================] - 116s 3s/step\n",
      "\n",
      " Epoch 9/50 Loss : 0.008488680538721382\n",
      "35/35 [==============================] - 108s 3s/step\n",
      "\n",
      " Epoch 10/50 Loss : 0.002260158098527297\n",
      "35/35 [==============================] - 123s 4s/step\n",
      "\n",
      " Epoch 11/50 Loss : 0.0016671549686829426\n",
      "35/35 [==============================] - 103s 3s/step\n",
      "\n",
      " Epoch 12/50 Loss : 0.0014080174543778412\n",
      "35/35 [==============================] - 117s 3s/step\n",
      "\n",
      " Epoch 13/50 Loss : 0.0012354018391176527\n",
      "35/35 [==============================] - 118s 3s/step\n",
      "\n",
      " Epoch 14/50 Loss : 0.0010833671071200765\n",
      "35/35 [==============================] - 105s 3s/step\n",
      "\n",
      " Epoch 15/50 Loss : 0.0008705824765326854\n",
      "35/35 [==============================] - 87s 2s/step\n",
      "\n",
      " Epoch 16/50 Loss : 0.0007032859155775181\n",
      "35/35 [==============================] - 82s 2s/step\n",
      "\n",
      " Epoch 17/50 Loss : 0.0005334901486224096\n",
      "35/35 [==============================] - 107s 3s/step\n",
      "\n",
      " Epoch 18/50 Loss : 0.0004060261953522318\n",
      "35/35 [==============================] - 105s 3s/step\n",
      "\n",
      " Epoch 19/50 Loss : 0.00042349390480792085\n",
      "35/35 [==============================] - 95s 3s/step\n",
      "\n",
      " Epoch 20/50 Loss : 0.00036497454010324355\n",
      "35/35 [==============================] - 101s 3s/step\n",
      "\n",
      " Epoch 21/50 Loss : 0.000325289133356169\n",
      "35/35 [==============================] - 84s 2s/step\n",
      "\n",
      " Epoch 22/50 Loss : 0.00027317180188869575\n",
      "35/35 [==============================] - 82s 2s/step\n",
      "\n",
      " Epoch 23/50 Loss : 0.00035105285060126333\n",
      "35/35 [==============================] - 78s 2s/step\n",
      "\n",
      " Epoch 24/50 Loss : 0.0002677760987093539\n",
      "35/35 [==============================] - 78s 2s/step\n",
      "\n",
      " Epoch 25/50 Loss : 0.00024647909064827087\n",
      "35/35 [==============================] - 78s 2s/step\n",
      "\n",
      " Epoch 26/50 Loss : 0.000221104801182394\n",
      "35/35 [==============================] - 94s 3s/step\n",
      "\n",
      " Epoch 27/50 Loss : 0.00017474319421515767\n",
      "35/35 [==============================] - 93s 3s/step\n",
      "\n",
      " Epoch 28/50 Loss : 0.00018848812116110432\n",
      "35/35 [==============================] - 95s 3s/step\n",
      "\n",
      " Epoch 29/50 Loss : 0.0001503977082783032\n",
      "35/35 [==============================] - 96s 3s/step\n",
      "\n",
      " Epoch 30/50 Loss : 0.0001545385071689712\n",
      "35/35 [==============================] - 112s 3s/step\n",
      "\n",
      " Epoch 31/50 Loss : 0.00014299877756716991\n",
      "35/35 [==============================] - 101s 3s/step\n",
      "\n",
      " Epoch 32/50 Loss : 0.00012413675264854516\n",
      "35/35 [==============================] - 104s 3s/step\n",
      "\n",
      " Epoch 33/50 Loss : 0.0001222365884521943\n",
      "35/35 [==============================] - 102s 3s/step\n",
      "\n",
      " Epoch 34/50 Loss : 0.00010969650640747983\n",
      "35/35 [==============================] - 103s 3s/step\n",
      "\n",
      " Epoch 35/50 Loss : 7.523691604092165e-05\n",
      "35/35 [==============================] - 104s 3s/step\n",
      "\n",
      " Epoch 36/50 Loss : 8.348650392235868e-05\n",
      "35/35 [==============================] - 103s 3s/step\n",
      "\n",
      " Epoch 37/50 Loss : 8.024466847668269e-05\n",
      "35/35 [==============================] - 103s 3s/step\n",
      "\n",
      " Epoch 38/50 Loss : 6.641111185672344e-05\n",
      "35/35 [==============================] - 105s 3s/step\n",
      "\n",
      " Epoch 39/50 Loss : 6.58206018670171e-05\n",
      "35/35 [==============================] - 115s 3s/step\n",
      "\n",
      " Epoch 40/50 Loss : 6.287594159662799e-05\n",
      "35/35 [==============================] - 124s 4s/step\n",
      "\n",
      " Epoch 41/50 Loss : 7.176283679655171e-05\n",
      "35/35 [==============================] - 119s 3s/step\n",
      "\n",
      " Epoch 42/50 Loss : 6.469369336303186e-05\n",
      "35/35 [==============================] - 102s 3s/step\n",
      "\n",
      " Epoch 43/50 Loss : 5.2081084001136855e-05\n",
      "35/35 [==============================] - 98s 3s/step\n",
      "\n",
      " Epoch 44/50 Loss : 5.1376653813609404e-05\n",
      "35/35 [==============================] - 99s 3s/step\n",
      "\n",
      " Epoch 45/50 Loss : 4.885073277429391e-05\n",
      "35/35 [==============================] - 100s 3s/step\n",
      "\n",
      " Epoch 46/50 Loss : 4.868807048816442e-05\n",
      "35/35 [==============================] - 96s 3s/step\n",
      "\n",
      " Epoch 47/50 Loss : 3.975309562390196e-05\n",
      "35/35 [==============================] - 97s 3s/step\n",
      "\n",
      " Epoch 48/50 Loss : 3.5144204148959294e-05\n",
      "35/35 [==============================] - 97s 3s/step\n",
      "\n",
      " Epoch 49/50 Loss : 4.068376021807905e-05\n",
      "35/35 [==============================] - 96s 3s/step\n",
      "\n",
      " Epoch 50/50 Loss : 3.646665502076628e-05\n"
     ]
    }
   ],
   "source": [
    "## Start training\n",
    "EPOCHS = 50\n",
    "train(train_dataset, EPOCHS)"
   ]
  },
  {
   "cell_type": "code",
   "execution_count": 268,
   "metadata": {},
   "outputs": [
    {
     "data": {
      "text/plain": [
       "[<matplotlib.lines.Line2D at 0x208b6174dc8>]"
      ]
     },
     "execution_count": 268,
     "metadata": {},
     "output_type": "execute_result"
    },
    {
     "data": {
      "image/png": "[encoded data removed]",
      "text/plain": [
       "<Figure size 432x288 with 1 Axes>"
      ]
     },
     "metadata": {
      "needs_background": "light"
     },
     "output_type": "display_data"
    }
   ],
   "source": [
    "plt.plot(losses)"
   ]
  },
  {
   "cell_type": "markdown",
   "metadata": {},
   "source": [
    "### EVALUATION"
   ]
  },
  {
   "cell_type": "code",
   "execution_count": 290,
   "metadata": {},
   "outputs": [],
   "source": [
    "from tensorflow.keras.metrics import Precision, Recall\n",
    "import numpy as np"
   ]
  },
  {
   "cell_type": "code",
   "execution_count": 270,
   "metadata": {},
   "outputs": [],
   "source": [
    "input_image, compare_image, label = test_dataset.as_numpy_iterator().next()"
   ]
  },
  {
   "cell_type": "code",
   "execution_count": 312,
   "metadata": {},
   "outputs": [],
   "source": [
    "def eval(data):\n",
    "    y_hats = []\n",
    "    ys = []\n",
    "\n",
    "    progbar = tf.keras.utils.Progbar(len(data))\n",
    "\n",
    "    for i, batch in enumerate(data):\n",
    "        \n",
    "        X = batch[:2]\n",
    "        y = batch[2]\n",
    "\n",
    "        y_hat = siamese_model(X)\n",
    "\n",
    "        y_hat = np.array([round(x[0]) for x in y_hat.numpy()])\n",
    "        \n",
    "        y_hats = np.concatenate((y_hats, y_hat))\n",
    "        ys = np.concatenate((ys, y.numpy()))\n",
    "\n",
    "        progbar.update(i+1)\n",
    "    \n",
    "    return y_hats, ys"
   ]
  },
  {
   "cell_type": "code",
   "execution_count": 313,
   "metadata": {},
   "outputs": [
    {
     "name": "stdout",
     "output_type": "stream",
     "text": [
      "15/15 [==============================] - 12s 807ms/step\n"
     ]
    }
   ],
   "source": [
    "y_hat, y = eval(test_dataset)"
   ]
  },
  {
   "cell_type": "code",
   "execution_count": 316,
   "metadata": {},
   "outputs": [
    {
     "data": {
      "text/plain": [
       "1.0"
      ]
     },
     "execution_count": 316,
     "metadata": {},
     "output_type": "execute_result"
    }
   ],
   "source": [
    "m = Recall()\n",
    "m.update_state(y, y_hat)\n",
    "m.result().numpy()"
   ]
  },
  {
   "cell_type": "code",
   "execution_count": 317,
   "metadata": {},
   "outputs": [
    {
     "data": {
      "text/plain": [
       "1.0"
      ]
     },
     "execution_count": 317,
     "metadata": {},
     "output_type": "execute_result"
    }
   ],
   "source": [
    "m = Precision()\n",
    "m.update_state(y, y_hat)\n",
    "m.result().numpy()"
   ]
  },
  {
   "cell_type": "markdown",
   "metadata": {},
   "source": [
    "## SAVE & RELOAD THE MODEL"
   ]
  },
  {
   "cell_type": "code",
   "execution_count": 318,
   "metadata": {},
   "outputs": [
    {
     "name": "stdout",
     "output_type": "stream",
     "text": [
      "WARNING:tensorflow:Compiled the loaded model, but the compiled metrics have yet to be built. `model.compile_metrics` will be empty until you train or evaluate the model.\n"
     ]
    }
   ],
   "source": [
    "siamese_model.save(\"siamese_model.h5\")"
   ]
  },
  {
   "cell_type": "code",
   "execution_count": 322,
   "metadata": {},
   "outputs": [
    {
     "name": "stdout",
     "output_type": "stream",
     "text": [
      "WARNING:tensorflow:No training configuration found in the save file, so the model was *not* compiled. Compile it manually.\n"
     ]
    }
   ],
   "source": [
    "loaded_model = keras.models.load_model(\"siamese_model.h5\", \n",
    "                                    custom_objects={\"L1Dist\" : L1Dist, \"BinaryCrossentropy\":tf.losses.BinaryCrossentropy})"
   ]
  },
  {
   "cell_type": "code",
   "execution_count": 323,
   "metadata": {},
   "outputs": [
    {
     "data": {
      "text/plain": [
       "array([[3.3785675e-06],\n",
       "       [9.7394137e-10],\n",
       "       [4.9010650e-06],\n",
       "       [6.2687189e-10],\n",
       "       [9.9988425e-01],\n",
       "       [1.0000000e+00],\n",
       "       [1.8692150e-06],\n",
       "       [9.9987352e-01],\n",
       "       [9.9999511e-01],\n",
       "       [1.0000000e+00],\n",
       "       [9.9999988e-01],\n",
       "       [1.3601350e-09],\n",
       "       [1.0000000e+00],\n",
       "       [1.0000000e+00],\n",
       "       [1.0000000e+00],\n",
       "       [9.9994421e-01]], dtype=float32)"
      ]
     },
     "execution_count": 323,
     "metadata": {},
     "output_type": "execute_result"
    }
   ],
   "source": [
    "loaded_model.predict([input_image, compare_image])"
   ]
  }
 ],
 "metadata": {
  "interpreter": {
   "hash": "77153cfac9044db7c2021ed41dc385779916320afa63e17e70d27a812b0e919a"
  },
  "kernelspec": {
   "display_name": "Python 3.7.11 64-bit ('deep_tf': conda)",
   "language": "python",
   "name": "python3"
  },
  "language_info": {
   "codemirror_mode": {
    "name": "ipython",
    "version": 3
   },
   "file_extension": ".py",
   "mimetype": "text/x-python",
   "name": "python",
   "nbconvert_exporter": "python",
   "pygments_lexer": "ipython3",
   "version": "3.7.11"
  },
  "orig_nbformat": 4
 },
 "nbformat": 4,
 "nbformat_minor": 2
}
